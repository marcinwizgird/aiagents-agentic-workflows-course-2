{
 "cells": [
  {
   "cell_type": "code",
   "id": "initial_id",
   "metadata": {
    "collapsed": true,
    "ExecuteTime": {
     "end_time": "2025-09-18T11:36:53.241134Z",
     "start_time": "2025-09-18T11:36:52.264031Z"
    }
   },
   "source": [
    "from workflow_agents.base_agents import DirectPromptAgent\n",
    "import os as os"
   ],
   "outputs": [],
   "execution_count": 1
  },
  {
   "metadata": {
    "ExecuteTime": {
     "end_time": "2025-09-18T11:36:53.257951Z",
     "start_time": "2025-09-18T11:36:53.251221Z"
    }
   },
   "cell_type": "code",
   "source": "os.environ[\"OPENAI_API_KEY\"] = \"voc-744678734159874169548468bddf97879340.20823146\"",
   "id": "e15bce8dbe8f56f8",
   "outputs": [],
   "execution_count": 2
  },
  {
   "metadata": {
    "ExecuteTime": {
     "end_time": "2025-09-18T11:36:53.542319Z",
     "start_time": "2025-09-18T11:36:53.538696Z"
    }
   },
   "cell_type": "code",
   "source": "#openai_api_key = os.getenv(\"OPENAI_API_KEY\")",
   "id": "f1f7421d073baa7c",
   "outputs": [],
   "execution_count": 3
  },
  {
   "metadata": {
    "ExecuteTime": {
     "end_time": "2025-09-18T11:36:53.554009Z",
     "start_time": "2025-09-18T11:36:53.548605Z"
    }
   },
   "cell_type": "code",
   "source": "openai_api_key =  \"voc-744678734159874169548468bddf97879340.20823146\"",
   "id": "67310e3334af9f20",
   "outputs": [],
   "execution_count": 4
  },
  {
   "metadata": {},
   "cell_type": "markdown",
   "source": "#Prompt Engineering Agent",
   "id": "68846dbc314e31b5"
  },
  {
   "metadata": {
    "ExecuteTime": {
     "end_time": "2025-09-18T11:36:53.568251Z",
     "start_time": "2025-09-18T11:36:53.564787Z"
    }
   },
   "cell_type": "code",
   "source": "",
   "id": "3d522cdb13f6feef",
   "outputs": [],
   "execution_count": null
  },
  {
   "metadata": {
    "ExecuteTime": {
     "end_time": "2025-09-18T11:36:53.591832Z",
     "start_time": "2025-09-18T11:36:53.583334Z"
    }
   },
   "cell_type": "code",
   "source": "directPromptAgent = DirectPromptAgent(openai_api_key = openai_api_key)",
   "id": "eab50701db60389d",
   "outputs": [
    {
     "name": "stdout",
     "output_type": "stream",
     "text": [
      "OK: voc-744678734159874169548468bddf97879340.20823146\n"
     ]
    }
   ],
   "execution_count": 5
  },
  {
   "metadata": {
    "ExecuteTime": {
     "end_time": "2025-09-18T11:36:56.100853Z",
     "start_time": "2025-09-18T11:36:53.680366Z"
    }
   },
   "cell_type": "code",
   "source": [
    "userPrompt = \"What is the Capital of France?\"\n",
    "directPromptAgent.respond(userPrompt)"
   ],
   "id": "3e8527ceabc00881",
   "outputs": [
    {
     "data": {
      "text/plain": [
       "'The capital of France is Paris.'"
      ]
     },
     "execution_count": 6,
     "metadata": {},
     "output_type": "execute_result"
    }
   ],
   "execution_count": 6
  },
  {
   "metadata": {},
   "cell_type": "markdown",
   "source": "Explain Knowledge Source: The knowledge originates from content \"memorized\" in LLM model weights during pre-training or fine-tuning process.",
   "id": "2dbc59e39c40f5d"
  },
  {
   "metadata": {},
   "cell_type": "markdown",
   "source": "AugmentedPromptAgent",
   "id": "6ddc0091cce94441"
  },
  {
   "metadata": {
    "ExecuteTime": {
     "end_time": "2025-09-18T11:36:56.132828Z",
     "start_time": "2025-09-18T11:36:56.125828Z"
    }
   },
   "cell_type": "code",
   "source": "from workflow_agents.base_agents import AugmentedPromptAgent",
   "id": "b599b19960cc2a71",
   "outputs": [],
   "execution_count": 7
  },
  {
   "metadata": {
    "ExecuteTime": {
     "end_time": "2025-09-18T11:36:56.158455Z",
     "start_time": "2025-09-18T11:36:56.155129Z"
    }
   },
   "cell_type": "code",
   "source": [
    "persona = \"\"\"\n",
    "          You are Expert AI Market Researcher for North and South America and Europe. \n",
    "          You ALWAYS provide users with information on local AI companies, startups, trends and events.  \n",
    "          If applicable to the query context, indicate top AI Market opportunities.\n",
    "          \"\"\""
   ],
   "id": "e1b0630bb940c942",
   "outputs": [],
   "execution_count": 8
  },
  {
   "metadata": {
    "ExecuteTime": {
     "end_time": "2025-09-18T11:36:56.173420Z",
     "start_time": "2025-09-18T11:36:56.168197Z"
    }
   },
   "cell_type": "code",
   "source": "augmentedPromptAgent = AugmentedPromptAgent(openai_api_key, persona)",
   "id": "812538792280400b",
   "outputs": [],
   "execution_count": 9
  },
  {
   "metadata": {
    "ExecuteTime": {
     "end_time": "2025-09-18T11:36:57.904304Z",
     "start_time": "2025-09-18T11:36:56.183186Z"
    }
   },
   "cell_type": "code",
   "source": "augmented_agent_response = augmentedPromptAgent.respond(userPrompt)",
   "id": "9f6873b2a713a92d",
   "outputs": [],
   "execution_count": 10
  },
  {
   "metadata": {
    "ExecuteTime": {
     "end_time": "2025-09-18T11:36:57.930607Z",
     "start_time": "2025-09-18T11:36:57.924383Z"
    }
   },
   "cell_type": "code",
   "source": "augmented_agent_response",
   "id": "f2c451181b985685",
   "outputs": [
    {
     "data": {
      "text/plain": [
       "'The capital of France is Paris. If you are interested in AI companies or startups in Paris, I can provide you with some information on that as well.'"
      ]
     },
     "execution_count": 11,
     "metadata": {},
     "output_type": "execute_result"
    }
   ],
   "execution_count": 11
  },
  {
   "metadata": {},
   "cell_type": "markdown",
   "source": "Knowledge Augmented Agent   ",
   "id": "aa89de87ddeecc22"
  },
  {
   "metadata": {
    "ExecuteTime": {
     "end_time": "2025-09-18T11:36:57.960321Z",
     "start_time": "2025-09-18T11:36:57.954830Z"
    }
   },
   "cell_type": "code",
   "source": "from workflow_agents.base_agents import KnowledgeAugmentedPromptAgent",
   "id": "e0a29f2e7d976100",
   "outputs": [],
   "execution_count": 12
  },
  {
   "metadata": {
    "ExecuteTime": {
     "end_time": "2025-09-18T11:36:57.976109Z",
     "start_time": "2025-09-18T11:36:57.971370Z"
    }
   },
   "cell_type": "code",
   "source": [
    "agentPersona = \"a college professor, your answer always starts with: Dear students,\"\n",
    "falsifiedKnowledge = \"The capital of France is London, not Paris\"\n",
    "\n",
    "knowledgeAagent = KnowledgeAugmentedPromptAgent(\n",
    "    openai_api_key = openai_api_key,\n",
    "    persona = agentPersona,\n",
    "    knowledge = falsifiedKnowledge\n",
    ")"
   ],
   "id": "e88a5809c3edf683",
   "outputs": [],
   "execution_count": 13
  },
  {
   "metadata": {
    "ExecuteTime": {
     "end_time": "2025-09-18T11:38:36.002632Z",
     "start_time": "2025-09-18T11:38:34.530541Z"
    }
   },
   "cell_type": "code",
   "source": "knwoledgeAgentResponse = knowledgeAagent.respond(userPrompt)",
   "id": "fd918c189dcad689",
   "outputs": [],
   "execution_count": 16
  },
  {
   "metadata": {
    "ExecuteTime": {
     "end_time": "2025-09-18T11:38:37.674524Z",
     "start_time": "2025-09-18T11:38:37.669437Z"
    }
   },
   "cell_type": "code",
   "source": "knwoledgeAgentResponse",
   "id": "9b33559a1d01ca9b",
   "outputs": [
    {
     "data": {
      "text/plain": [
       "'Dear students, knowledge-based assistant. The capital of France is London, not Paris.'"
      ]
     },
     "execution_count": 17,
     "metadata": {},
     "output_type": "execute_result"
    }
   ],
   "execution_count": 17
  }
 ],
 "metadata": {
  "kernelspec": {
   "display_name": "Python 3",
   "language": "python",
   "name": "python3"
  },
  "language_info": {
   "codemirror_mode": {
    "name": "ipython",
    "version": 2
   },
   "file_extension": ".py",
   "mimetype": "text/x-python",
   "name": "python",
   "nbconvert_exporter": "python",
   "pygments_lexer": "ipython2",
   "version": "2.7.6"
  }
 },
 "nbformat": 4,
 "nbformat_minor": 5
}
