{
 "cells": [
  {
   "cell_type": "code",
   "id": "initial_id",
   "metadata": {
    "collapsed": true,
    "ExecuteTime": {
     "end_time": "2025-09-18T09:57:13.055953Z",
     "start_time": "2025-09-18T09:57:12.093102Z"
    }
   },
   "source": [
    "from workflow_agents.base_agents import DirectPromptAgent\n",
    "import os as os"
   ],
   "outputs": [],
   "execution_count": 1
  },
  {
   "metadata": {
    "ExecuteTime": {
     "end_time": "2025-09-18T09:57:13.062626Z",
     "start_time": "2025-09-18T09:57:13.055953Z"
    }
   },
   "cell_type": "code",
   "source": "os.environ[\"OPENAI_API_KEY\"] = \"voc-744678734159874169548468bddf97879340.20823146\"",
   "id": "e15bce8dbe8f56f8",
   "outputs": [],
   "execution_count": 2
  },
  {
   "metadata": {
    "ExecuteTime": {
     "end_time": "2025-09-18T09:57:13.241044Z",
     "start_time": "2025-09-18T09:57:13.237416Z"
    }
   },
   "cell_type": "code",
   "source": "#openai_api_key = os.getenv(\"OPENAI_API_KEY\")",
   "id": "f1f7421d073baa7c",
   "outputs": [],
   "execution_count": 3
  },
  {
   "metadata": {
    "ExecuteTime": {
     "end_time": "2025-09-18T09:57:13.252173Z",
     "start_time": "2025-09-18T09:57:13.246624Z"
    }
   },
   "cell_type": "code",
   "source": "openai_api_key =  \"voc-744678734159874169548468bddf97879340.20823146\"",
   "id": "67310e3334af9f20",
   "outputs": [],
   "execution_count": 4
  },
  {
   "metadata": {},
   "cell_type": "markdown",
   "source": "#Prompt Engineering Agent",
   "id": "68846dbc314e31b5"
  },
  {
   "metadata": {},
   "cell_type": "code",
   "outputs": [],
   "execution_count": null,
   "source": "",
   "id": "3d522cdb13f6feef"
  },
  {
   "metadata": {
    "ExecuteTime": {
     "end_time": "2025-09-18T09:57:13.268947Z",
     "start_time": "2025-09-18T09:57:13.264392Z"
    }
   },
   "cell_type": "code",
   "source": "directPromptAgent = DirectPromptAgent(openai_api_key = openai_api_key)",
   "id": "eab50701db60389d",
   "outputs": [
    {
     "name": "stdout",
     "output_type": "stream",
     "text": [
      "OK: voc-744678734159874169548468bddf97879340.20823146\n"
     ]
    }
   ],
   "execution_count": 5
  },
  {
   "metadata": {
    "ExecuteTime": {
     "end_time": "2025-09-18T10:02:05.331378Z",
     "start_time": "2025-09-18T10:02:03.227347Z"
    }
   },
   "cell_type": "code",
   "source": [
    "userPrompt = \"What is the Capital of France?\"\n",
    "directPromptAgent.respond(userPrompt)"
   ],
   "id": "3e8527ceabc00881",
   "outputs": [
    {
     "data": {
      "text/plain": [
       "'The capital of France is Paris.'"
      ]
     },
     "execution_count": 8,
     "metadata": {},
     "output_type": "execute_result"
    }
   ],
   "execution_count": 8
  },
  {
   "metadata": {},
   "cell_type": "markdown",
   "source": "Explain Knowledge Source: The knowledge originates from content \"memorized\" in LLM model weights during pre-training or fine-tuning process.",
   "id": "2dbc59e39c40f5d"
  },
  {
   "metadata": {},
   "cell_type": "markdown",
   "source": "AugmentedPromptAgent",
   "id": "6ddc0091cce94441"
  },
  {
   "metadata": {
    "ExecuteTime": {
     "end_time": "2025-09-18T09:57:16.716193Z",
     "start_time": "2025-09-18T09:57:16.133638Z"
    }
   },
   "cell_type": "code",
   "source": "op",
   "id": "b599b19960cc2a71",
   "outputs": [
    {
     "ename": "NameError",
     "evalue": "name 'op' is not defined",
     "output_type": "error",
     "traceback": [
      "\u001B[31m---------------------------------------------------------------------------\u001B[39m",
      "\u001B[31mNameError\u001B[39m                                 Traceback (most recent call last)",
      "\u001B[36mCell\u001B[39m\u001B[36m \u001B[39m\u001B[32mIn[7]\u001B[39m\u001B[32m, line 1\u001B[39m\n\u001B[32m----> \u001B[39m\u001B[32m1\u001B[39m op\n",
      "\u001B[31mNameError\u001B[39m: name 'op' is not defined"
     ]
    }
   ],
   "execution_count": 7
  }
 ],
 "metadata": {
  "kernelspec": {
   "display_name": "Python 3",
   "language": "python",
   "name": "python3"
  },
  "language_info": {
   "codemirror_mode": {
    "name": "ipython",
    "version": 2
   },
   "file_extension": ".py",
   "mimetype": "text/x-python",
   "name": "python",
   "nbconvert_exporter": "python",
   "pygments_lexer": "ipython2",
   "version": "2.7.6"
  }
 },
 "nbformat": 4,
 "nbformat_minor": 5
}
